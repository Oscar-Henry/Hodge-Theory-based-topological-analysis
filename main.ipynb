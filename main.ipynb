{
 "cells": [
  {
   "cell_type": "code",
   "execution_count": 1,
   "metadata": {},
   "outputs": [],
   "source": [
    "from methods import *\n",
    "import random\n",
    "import matplotlib.pyplot as plt\n",
    "import os"
   ]
  },
  {
   "attachments": {},
   "cell_type": "markdown",
   "metadata": {},
   "source": [
    "# 0 - Choose the protein structure you want to study"
   ]
  },
  {
   "cell_type": "code",
   "execution_count": 2,
   "metadata": {},
   "outputs": [],
   "source": [
    "#structure_id = \"1nd1\" \n",
    "#file_name = \"DATA//\" + structure_id + \".pdb\"\n",
    "#protein = True\n",
    "#structure_id = \"4ldb\"\n",
    "#file_name = \"DATA//\" + structure_id + \".pdb\"\n",
    "#protein = True\n",
    "#structure_id = \"guanine\"  #The code can be different if it is a molecule or a protein\n",
    "#file_name = \"DATA//\" + structure_id + \".pdb\"\n",
    "#protein = False\n",
    "structure_id = \"4ogs\"\n",
    "file_name = \"DATA//\" + structure_id + \".pdb\"\n",
    "protein = True\n",
    "#structure_id = \"4pyi\"\n",
    "#file_name = \"DATA//\" + structure_id + \".pdb\"\n",
    "#protein = True\n",
    "#structure_id = \"6tpk\"\n",
    "#file_name = \"DATA//\" + structure_id + \".pdb\"\n",
    "#protein = True\n",
    "#structure_id = \"5ncx\"\n",
    "#file_name = \"DATA//\" + structure_id + \".pdb\"\n",
    "#protein = True\n",
    "\n",
    "random.seed(27112000)"
   ]
  },
  {
   "attachments": {},
   "cell_type": "markdown",
   "metadata": {},
   "source": [
    "### 1 - Read the .pdb file and plot the 3D structure"
   ]
  },
  {
   "cell_type": "code",
   "execution_count": 3,
   "metadata": {},
   "outputs": [
    {
     "name": "stdout",
     "output_type": "stream",
     "text": [
      "Total number of carbon atoms:  450\n",
      "Verify that this script has not already been run with this structure\n"
     ]
    },
    {
     "name": "stderr",
     "output_type": "stream",
     "text": [
      "c:\\Users\\hosca\\anaconda3\\envs\\project\\lib\\site-packages\\Bio\\PDB\\StructureBuilder.py:89: PDBConstructionWarning: WARNING: Chain A is discontinuous at line 4094.\n",
      "  warnings.warn(\n",
      "c:\\Users\\hosca\\anaconda3\\envs\\project\\lib\\site-packages\\Bio\\PDB\\StructureBuilder.py:89: PDBConstructionWarning: WARNING: Chain B is discontinuous at line 4183.\n",
      "  warnings.warn(\n"
     ]
    }
   ],
   "source": [
    "if protein:\n",
    "    structure = PDB_prot_reader(structure_id, file_name)\n",
    "    print(\"Total number of carbon atoms: \", np.shape(structure[1])[0])\n",
    "else:\n",
    "    structure = PDB_mol_reader(structure_id, file_name)\n",
    "    print(\"Total number of atoms: \", np.shape(structure[1])[0])\n",
    "\n",
    "if os.path.exists(\"RESULTS//\" + structure_id + \".gif\"):\n",
    "    print(\"Verify that this script has not already been run with this structure\")\n",
    "else:\n",
    "    plot_3d(structure_id, structure[1])"
   ]
  },
  {
   "attachments": {},
   "cell_type": "markdown",
   "metadata": {},
   "source": [
    "### 2 - Analyse the 3D structure to determine the different values of epsilon"
   ]
  },
  {
   "cell_type": "code",
   "execution_count": 4,
   "metadata": {},
   "outputs": [
    {
     "name": "stdout",
     "output_type": "stream",
     "text": [
      " Min (x,y,z):  [-13.024, 1.449, -1.645] \n",
      " Max (x,y,z):  [40.887, 49.648, 54.151] \n",
      " Min euclidean distance:  3.1755242 \n",
      " Max euclidean distance:  67.19296 \n",
      " Epsilon range:  [4, 5, 6, 7, 8] \n",
      " Distance batch:  [ 3.1755242 14.241478  18.595028  22.334652  25.833252  28.843344\n",
      " 32.145744  35.831085  40.186695  47.135895 ]\n"
     ]
    }
   ],
   "source": [
    "min = [np.min(idx) for idx in zip(*structure[1])]\n",
    "max = [np.max(idx) for idx in zip(*structure[1])]\n",
    "\n",
    "random_pair = [[random.randint(0, np.shape(structure[1])[0]-1), random.randint(0, np.shape(structure[1])[0]-1)]  for i in range(1000)]\n",
    "dist = np.sort(np.array([np.linalg.norm(structure[1][idx[0]] - structure[1][idx[1]]) for idx in random_pair]))\n",
    "\n",
    "while dist[0] == 0:\n",
    "    dist = dist[1:]\n",
    "\n",
    "min_dist, max_dist = np.min(dist), np.max(dist)\n",
    "index = np.linspace(0, 900, 10, dtype = int)\n",
    "\n",
    "\"\"\" if min_dist < 4:\n",
    "    epsilon = [min_dist * 1.2, min_dist * 1.5, min_dist*2]\n",
    "elif min_dist >= 4 and min_dist < 10:\n",
    "    epsilon = [min_dist * 1.2, min_dist * 1.5, min_dist*2]\n",
    "else:\n",
    "    epsilon = [min_dist * 1.2, min_dist * 1.5, min_dist*2] \"\"\"\n",
    "\n",
    "epsilons = [4, 5, 6, 7, 8]\n",
    "\n",
    "print(\" Min (x,y,z): \", min,'\\n',\n",
    "    \"Max (x,y,z): \", max, '\\n',\n",
    "    \"Min euclidean distance: \", min_dist, '\\n',\n",
    "    \"Max euclidean distance: \", max_dist, '\\n',\n",
    "    \"Epsilon range: \", epsilons, '\\n'\n",
    "    \" Distance batch: \", dist[index])"
   ]
  },
  {
   "cell_type": "code",
   "execution_count": 27,
   "metadata": {},
   "outputs": [
    {
     "name": "stdout",
     "output_type": "stream",
     "text": [
      "Rips complex is of dimension 1 - 1955 simplices - 987 vertices.\n",
      "Verify that this script has not already been run with this structure\n",
      "Rips complex is of dimension 2 - 3194 simplices - 987 vertices.\n",
      "Verify that this script has not already been run with this structure\n",
      "Rips complex is of dimension 2 - 5271 simplices - 987 vertices.\n",
      "Verify that this script has not already been run with this structure\n",
      "Rips complex is of dimension 2 - 8876 simplices - 987 vertices.\n",
      "Verify that this script has not already been run with this structure\n",
      "Rips complex is of dimension 2 - 13835 simplices - 987 vertices.\n",
      "Verify that this script has not already been run with this structure\n"
     ]
    }
   ],
   "source": [
    "rips_complex = []\n",
    "simplex_tree = []\n",
    "total_inc = []\n",
    "average_inc = []\n",
    "\n",
    "for epsilon in epsilons:\n",
    "\n",
    "    rips = generate_rips(structure[1], epsilon)\n",
    "    edges = np.array([s[0] for s in rips.get_skeleton(1) if len(s[0])==2])\n",
    "    triangles = np.array([s[0] for s in rips.get_skeleton(2) if len(s[0])==3])\n",
    "\n",
    "    local, inc1, inc2 = inconsistency(structure, rips, edges, triangles)\n",
    "\n",
    "    total_inc.append(inc1)\n",
    "    average_inc.append(inc2)\n",
    "\n",
    "    if os.path.exists(\"RESULTS//Rips_\" + \"_\" + structure_id + \"_\" + str(epsilon) + \".gif\"):\n",
    "        print(\"Verify that this script has not already been run with this structure\")\n",
    "    else:\n",
    "        plot_rips(structure[1], rips, edges, triangles, structure_id, epsilon, local)"
   ]
  },
  {
   "cell_type": "code",
   "execution_count": 28,
   "metadata": {},
   "outputs": [
    {
     "name": "stdout",
     "output_type": "stream",
     "text": [
      "The total inconsistency of the structure  4ldb  is  [2.14826946e-10 8.65247029e+02 1.21935085e+03 2.06587820e+03\n",
      " 2.67978996e+03]\n",
      "The average inconsistency of the structure  4ldb  is  [1.06649364e-11 2.84245179e+01 3.28004534e+01 4.25165257e+01\n",
      " 4.78108592e+01]\n"
     ]
    }
   ],
   "source": [
    "total_inc = np.array(total_inc)\n",
    "average_inc = np.array(average_inc)\n",
    "\n",
    "print(\"The total inconsistency of the structure \", structure_id, \" is \", total_inc)\n",
    "print(\"The average inconsistency of the structure \", structure_id, \" is \", average_inc)\n",
    "\n",
    "res_total = (\"RESULTS//\" + structure_id + \"_total.npy\")\n",
    "res_average = (\"RESULTS//\" + structure_id + \"_average.npy\")\n",
    "\n",
    "np.save(res_total, total_inc)\n",
    "np.save(res_average, average_inc)"
   ]
  },
  {
   "cell_type": "code",
   "execution_count": null,
   "metadata": {},
   "outputs": [],
   "source": []
  }
 ],
 "metadata": {
  "kernelspec": {
   "display_name": "project",
   "language": "python",
   "name": "python3"
  },
  "language_info": {
   "codemirror_mode": {
    "name": "ipython",
    "version": 3
   },
   "file_extension": ".py",
   "mimetype": "text/x-python",
   "name": "python",
   "nbconvert_exporter": "python",
   "pygments_lexer": "ipython3",
   "version": "3.10.9 | packaged by conda-forge | (main, Jan 11 2023, 15:15:40) [MSC v.1916 64 bit (AMD64)]"
  },
  "orig_nbformat": 4,
  "vscode": {
   "interpreter": {
    "hash": "8a109f90c5fc6ee6cddd71de099618aae93a7c7b73eb8d12b706ad8805086ba5"
   }
  }
 },
 "nbformat": 4,
 "nbformat_minor": 2
}
