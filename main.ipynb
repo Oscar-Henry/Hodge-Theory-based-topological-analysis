{
 "cells": [
  {
   "cell_type": "code",
   "execution_count": 120,
   "metadata": {},
   "outputs": [],
   "source": [
    "import gudhi\n",
    "from methods import *\n",
    "import random\n",
    "import matplotlib.pyplot as plt"
   ]
  },
  {
   "attachments": {},
   "cell_type": "markdown",
   "metadata": {},
   "source": [
    "# 0 - Choose the protein structure you want to study"
   ]
  },
  {
   "cell_type": "code",
   "execution_count": 121,
   "metadata": {},
   "outputs": [],
   "source": [
    "structure_id = \"1nd1\"  #The code can be different if it is a molecule or a protein\n",
    "file_name = \"DATA//\" + structure_id + \".pdb\"\n",
    "random.seed(27112000)"
   ]
  },
  {
   "attachments": {},
   "cell_type": "markdown",
   "metadata": {},
   "source": [
    "### 1 - Read the .pdb file and plot the 3D structure"
   ]
  },
  {
   "cell_type": "code",
   "execution_count": 122,
   "metadata": {},
   "outputs": [
    {
     "name": "stdout",
     "output_type": "stream",
     "text": [
      "Total number of carbon atoms:  1596\n"
     ]
    }
   ],
   "source": [
    "#structure = PDB_mol_reader(structure_id, file_name)\n",
    "structure = PDB_prot_reader(structure_id, file_name)\n",
    "plot_3d(structure_id, structure)\n",
    "print(\"Total number of carbon atoms: \", np.shape(structure[1])[0])"
   ]
  },
  {
   "attachments": {},
   "cell_type": "markdown",
   "metadata": {},
   "source": [
    "### 2 - Analyse the 3D structure to determine the different values of epsilon"
   ]
  },
  {
   "cell_type": "code",
   "execution_count": 123,
   "metadata": {},
   "outputs": [
    {
     "name": "stdout",
     "output_type": "stream",
     "text": [
      " Min (x,y,z):  [-16.322, 3.969, -2.615] \n",
      " Max (x,y,z):  [28.38, 49.126, 43.564] \n",
      " Min euclidean distance:  2.2474825 \n",
      " Max euclidean distance:  46.24859 \n",
      " Epsilon range:  [2.35985667 2.75316611 3.14647555] \n",
      "Distance batch:  [2.2474825 4.1645956 5.917309  6.113694  6.3181596 7.5526123 8.562862\n",
      " 9.040073  9.561576  9.667909 ]\n"
     ]
    }
   ],
   "source": [
    "min = [np.min(idx) for idx in zip(*structure[1])]\n",
    "max = [np.max(idx) for idx in zip(*structure[1])]\n",
    "\n",
    "random_pair = [[random.randint(0, np.shape(structure[1])[0]-1), random.randint(0, np.shape(structure[1])[0]-1)]  for i in range(1000)]\n",
    "dist = np.sort(np.array([np.linalg.norm(structure[1][idx[0]] - structure[1][idx[1]]) for idx in random_pair]))\n",
    "\n",
    "while dist[0] == 0:\n",
    "    dist = dist[1:]\n",
    "\n",
    "min_dist, max_dist = np.min(dist), np.max(dist)\n",
    "\n",
    "epsilon = np.linspace(min_dist*1.05, min_dist*1.4, 3)\n",
    "\n",
    "print(\" Min (x,y,z): \", min,'\\n',\n",
    "    \"Max (x,y,z): \", max, '\\n',\n",
    "    \"Min euclidean distance: \", min_dist, '\\n',\n",
    "    \"Max euclidean distance: \", max_dist, '\\n',\n",
    "    \"Epsilon range: \", epsilon, '\\n'\n",
    "    \"Distance batch: \", dist[:10])"
   ]
  },
  {
   "cell_type": "code",
   "execution_count": 124,
   "metadata": {},
   "outputs": [
    {
     "name": "stdout",
     "output_type": "stream",
     "text": [
      "Rips complex is of dimension 2 - 4090 simplices - 1596 vertices.\n",
      "Rips complex is of dimension 2 - 8749 simplices - 1596 vertices.\n",
      "Rips complex is of dimension 2 - 12539 simplices - 1596 vertices.\n"
     ]
    }
   ],
   "source": [
    "rips_complex = []\n",
    "simplex_tree = []\n",
    "fmt = '%s -> %.2f'\n",
    "fig = plt.figure(figsize=(14, 30))\n",
    "subplot = [311, 312, 313]\n",
    "\n",
    "for i in range(3):\n",
    "    rips_complex.append(gudhi.RipsComplex(points = structure[1], max_edge_length = epsilon[i]))\n",
    "    simplex_tree.append(rips_complex[i].create_simplex_tree(max_dimension=2))\n",
    "\n",
    "    print('Rips complex is of dimension '  + \\\n",
    "        repr(simplex_tree[i].dimension()) + ' - ' + \\\n",
    "        repr(simplex_tree[i].num_simplices()) + ' simplices - ' + \\\n",
    "        repr(simplex_tree[i].num_vertices()) + ' vertices.') \n",
    "\n",
    "    res = \"\"\n",
    "    for filtered_value in simplex_tree[0].get_filtration():\n",
    "        res += fmt % tuple(filtered_value)\n",
    "    #print(res)\n",
    "\n",
    "    triangles = np.array([s[0] for s in simplex_tree[i].get_skeleton(2) if len(s[0])==3])\n",
    "\n",
    "    ax = fig.add_subplot(subplot[i], projection='3d')\n",
    "    ax.set_title(\"Vietoris Rips complex with epsilon of \" + str(round(epsilon[i], 2)))\n",
    "    ax.scatter(structure[1][:, 0], structure[1][:, 1], structure[1][:, 2], s=1)\n",
    "    if len(triangles) != 0:\n",
    "        ax.plot_trisurf(structure[1][:, 0], structure[1][:, 1], structure[1][:, 2], triangles=triangles, alpha = 0.1)\n",
    "\n",
    "    plot = pv.Plotter(off_screen=True)\n",
    "    plot.add_mesh(structure[1], color = 'k', render_points_as_spheres=True, point_size=2, show_scalar_bar=True)\n",
    "    for triangle in triangles:\n",
    "        a = np.array([structure[1][triangle[0]][0], structure[1][triangle[0]][1], structure[1][triangle[0]][2]])\n",
    "        b = np.array([structure[1][triangle[1]][0], structure[1][triangle[1]][1], structure[1][triangle[1]][2]])\n",
    "        c = np.array([structure[1][triangle[2]][0], structure[1][triangle[2]][1], structure[1][triangle[2]][2]])\n",
    "        tri = pv.Triangle([a, b, c])\n",
    "        plot.add_mesh(tri, color = 'b', style='surface', show_edges=True, edge_color = 'k', opacity = 0.2, line_width=1)    \n",
    "    plot.background_color = 'w'\n",
    "    path = plot.generate_orbital_path(n_points=100, shift = 100, factor=3.0)\n",
    "    plot.open_gif(\"RESULTS//Rips_\" + str(round(epsilon[i], 2)) + \"_\" + structure_id + \".gif\")\n",
    "    plot.orbit_on_path(path, write_frames=True)\n",
    "    plt.close()\n",
    "\n",
    "plt.show()"
   ]
  }
 ],
 "metadata": {
  "kernelspec": {
   "display_name": "project",
   "language": "python",
   "name": "python3"
  },
  "language_info": {
   "codemirror_mode": {
    "name": "ipython",
    "version": 3
   },
   "file_extension": ".py",
   "mimetype": "text/x-python",
   "name": "python",
   "nbconvert_exporter": "python",
   "pygments_lexer": "ipython3",
   "version": "3.10.9"
  },
  "orig_nbformat": 4,
  "vscode": {
   "interpreter": {
    "hash": "8a109f90c5fc6ee6cddd71de099618aae93a7c7b73eb8d12b706ad8805086ba5"
   }
  }
 },
 "nbformat": 4,
 "nbformat_minor": 2
}
