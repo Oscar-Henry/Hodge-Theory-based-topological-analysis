{
 "cells": [
  {
   "cell_type": "code",
   "execution_count": 6,
   "metadata": {},
   "outputs": [],
   "source": [
    "from methods import *\n",
    "import random\n",
    "import matplotlib.pyplot as plt\n",
    "import os"
   ]
  },
  {
   "attachments": {},
   "cell_type": "markdown",
   "metadata": {},
   "source": [
    "# 0 - Choose the protein structure you want to study"
   ]
  },
  {
   "cell_type": "code",
   "execution_count": 7,
   "metadata": {},
   "outputs": [],
   "source": [
    "#structure_id = \"1nd1\" \n",
    "#file_name = \"DATA//\" + structure_id + \".pdb\"\n",
    "#protein = True\n",
    "structure_id = \"4ldb\"\n",
    "file_name = \"DATA//\" + structure_id + \".pdb\"\n",
    "protein = True\n",
    "#structure_id = \"guanine\"  #The code can be different if it is a molecule or a protein\n",
    "#file_name = \"DATA//\" + structure_id + \".pdb\"\n",
    "#protein = False\n",
    "#structure_id = \"4ogs\"\n",
    "#file_name = \"DATA//\" + structure_id + \".pdb\"\n",
    "#protein = True\n",
    "#structure_id = \"4pyi\"\n",
    "#file_name = \"DATA//\" + structure_id + \".pdb\"\n",
    "#protein = True\n",
    "#structure_id = \"6tpk\"\n",
    "#file_name = \"DATA//\" + structure_id + \".pdb\"\n",
    "#protein = True\n",
    "\n",
    "random.seed(27112000)"
   ]
  },
  {
   "attachments": {},
   "cell_type": "markdown",
   "metadata": {},
   "source": [
    "### 1 - Read the .pdb file and plot the 3D structure"
   ]
  },
  {
   "cell_type": "code",
   "execution_count": 8,
   "metadata": {},
   "outputs": [
    {
     "name": "stdout",
     "output_type": "stream",
     "text": [
      "Total number of carbon atoms:  987\n"
     ]
    }
   ],
   "source": [
    "if protein:\n",
    "    structure = PDB_prot_reader(structure_id, file_name)\n",
    "    print(\"Total number of carbon atoms: \", np.shape(structure[1])[0])\n",
    "else:\n",
    "    structure = PDB_mol_reader(structure_id, file_name)\n",
    "    print(\"Total number of atoms: \", np.shape(structure[1])[0])\n",
    "\n",
    "if os.path.exists(\"RESULTS//\" + structure_id + \".gif\"):\n",
    "    print(\"Verify that this script has not already been run with this structure\")\n",
    "else:\n",
    "    plot_3d(structure_id, structure[1])"
   ]
  },
  {
   "attachments": {},
   "cell_type": "markdown",
   "metadata": {},
   "source": [
    "### 2 - Analyse the 3D structure to determine the different values of epsilon"
   ]
  },
  {
   "cell_type": "code",
   "execution_count": 9,
   "metadata": {},
   "outputs": [
    {
     "name": "stdout",
     "output_type": "stream",
     "text": [
      " Min (x,y,z):  [-52.497, -87.507, -38.126] \n",
      " Max (x,y,z):  [35.074, -28.036, 53.7] \n",
      " Min euclidean distance:  3.1416407 \n",
      " Max euclidean distance:  90.0552 \n",
      " Epsilon range:  [4, 5, 6, 7, 8] \n",
      " Distance batch:  [ 3.1416407 18.24382   25.072935  30.905268  36.014294  40.706802\n",
      " 45.21195   50.06922   55.484085  65.063866 ]\n"
     ]
    }
   ],
   "source": [
    "min = [np.min(idx) for idx in zip(*structure[1])]\n",
    "max = [np.max(idx) for idx in zip(*structure[1])]\n",
    "\n",
    "random_pair = [[random.randint(0, np.shape(structure[1])[0]-1), random.randint(0, np.shape(structure[1])[0]-1)]  for i in range(1000)]\n",
    "dist = np.sort(np.array([np.linalg.norm(structure[1][idx[0]] - structure[1][idx[1]]) for idx in random_pair]))\n",
    "\n",
    "while dist[0] == 0:\n",
    "    dist = dist[1:]\n",
    "\n",
    "min_dist, max_dist = np.min(dist), np.max(dist)\n",
    "index = np.linspace(0, 900, 10, dtype = int)\n",
    "\n",
    "\"\"\" if min_dist < 4:\n",
    "    epsilon = [min_dist * 1.2, min_dist * 1.5, min_dist*2]\n",
    "elif min_dist >= 4 and min_dist < 10:\n",
    "    epsilon = [min_dist * 1.2, min_dist * 1.5, min_dist*2]\n",
    "else:\n",
    "    epsilon = [min_dist * 1.2, min_dist * 1.5, min_dist*2] \"\"\"\n",
    "\n",
    "epsilons = [4, 5, 6, 7, 8]\n",
    "\n",
    "print(\" Min (x,y,z): \", min,'\\n',\n",
    "    \"Max (x,y,z): \", max, '\\n',\n",
    "    \"Min euclidean distance: \", min_dist, '\\n',\n",
    "    \"Max euclidean distance: \", max_dist, '\\n',\n",
    "    \"Epsilon range: \", epsilons, '\\n'\n",
    "    \" Distance batch: \", dist[index])"
   ]
  },
  {
   "cell_type": "code",
   "execution_count": 10,
   "metadata": {},
   "outputs": [
    {
     "name": "stdout",
     "output_type": "stream",
     "text": [
      "Rips complex is of dimension 1 - 1955 simplices - 987 vertices.\n",
      "2.1482694617931524e-10\n",
      "1.0664936399003045e-11\n",
      "Rips complex is of dimension 2 - 3194 simplices - 987 vertices.\n",
      "865.2470291357201\n",
      "28.424517909009587\n",
      "Rips complex is of dimension 2 - 5271 simplices - 987 vertices.\n",
      "1219.3508465756206\n",
      "32.800453393430026\n",
      "Rips complex is of dimension 2 - 8876 simplices - 987 vertices.\n",
      "2065.878202174794\n",
      "42.51652571163447\n",
      "Rips complex is of dimension 2 - 13835 simplices - 987 vertices.\n",
      "2679.789960607619\n",
      "47.81085920614698\n"
     ]
    }
   ],
   "source": [
    "rips_complex = []\n",
    "simplex_tree = []\n",
    "total_inc1 = []\n",
    "total_inc2 = []\n",
    "\n",
    "for epsilon in epsilons:\n",
    "\n",
    "    rips = generate_rips(structure[1], epsilon)\n",
    "    edges = np.array([s[0] for s in rips.get_skeleton(1) if len(s[0])==2])\n",
    "    triangles = np.array([s[0] for s in rips.get_skeleton(2) if len(s[0])==3])\n",
    "\n",
    "    local, inc1, inc2 = inconsistency(structure, rips, edges, triangles)\n",
    "\n",
    "    total_inc1.append(inc1)\n",
    "    total_inc1.append(inc2)\n",
    "\n",
    "    if os.path.exists(\"RESULTS//Rips_\" + \"_\" + structure_id + \"_\" + str(epsilon) + \".gif\"):\n",
    "        print(\"Verify that this script has not already been run with this structure\")\n",
    "    else:\n",
    "        plot_rips(structure[1], rips, edges, triangles, structure_id, epsilon, local)\n",
    "\n",
    "    print(inc1)\n",
    "    print(inc2)"
   ]
  },
  {
   "cell_type": "code",
   "execution_count": null,
   "metadata": {},
   "outputs": [],
   "source": []
  }
 ],
 "metadata": {
  "kernelspec": {
   "display_name": "project",
   "language": "python",
   "name": "python3"
  },
  "language_info": {
   "codemirror_mode": {
    "name": "ipython",
    "version": 3
   },
   "file_extension": ".py",
   "mimetype": "text/x-python",
   "name": "python",
   "nbconvert_exporter": "python",
   "pygments_lexer": "ipython3",
   "version": "3.10.9"
  },
  "orig_nbformat": 4,
  "vscode": {
   "interpreter": {
    "hash": "8a109f90c5fc6ee6cddd71de099618aae93a7c7b73eb8d12b706ad8805086ba5"
   }
  }
 },
 "nbformat": 4,
 "nbformat_minor": 2
}
